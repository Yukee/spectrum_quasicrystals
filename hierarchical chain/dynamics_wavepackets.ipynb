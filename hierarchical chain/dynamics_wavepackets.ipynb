{
 "metadata": {
  "name": "",
  "signature": "sha256:81598d49aabb003b07f5d2feead352fd772a6390c1ee49510e3f257ee5a213e6"
 },
 "nbformat": 3,
 "nbformat_minor": 0,
 "worksheets": [
  {
   "cells": [
    {
     "cell_type": "markdown",
     "metadata": {},
     "source": [
      "The aim is to study the dynamics of wavepackets dropped on the hierarchical chain.\n",
      "\n",
      "For that we diagonalize the hamiltonian. Then we can compute the propagator\n",
      "$$K_{ij}(t) = <j|\\exp(-i H t)|i>$$\n",
      "\n",
      "The probability to be at site j at time t, given that the wavepacket was dropped at site i initially is then simply\n",
      "$$P_i(j;t) = |K_{ij}(t)|^2$$\n",
      "The return probability is\n",
      "$$P_i(t) = \\sum_j (x_j - x_i)^2 P_i(j;t)$$\n",
      "\n",
      "We use scipy linalg package to diagonalize the hamiltonian. We use the numpy.array structure for storage of the matrix.\n",
      "(scipy.sparse.linalg.eigsh is designed for hamiltonian sparse matrices, which precisely what we have,\n",
      "however it uses Lanczos algorithm, which typically only finds the highest eigenvalue with satisfying accuracy.)"
     ]
    },
    {
     "cell_type": "code",
     "collapsed": false,
     "input": [
      "import numpy as np\n",
      "from scipy import linalg\n",
      "import matplotlib.pyplot as plt\n",
      "import math\n",
      "%matplotlib inline"
     ],
     "language": "python",
     "metadata": {},
     "outputs": [],
     "prompt_number": 14
    },
    {
     "cell_type": "code",
     "collapsed": false,
     "input": [
      "\"\"\" build the hierarchical tight-binding hamiltonian \"\"\"\n",
      "\n",
      "# couplings\n",
      "v = 0.3\n",
      "r = 0.3\n",
      "\n",
      "# size\n",
      "n = 10\n",
      "L = 2**n\n",
      "\n",
      "# i = oddNumber*2**intExp(i)\n",
      "def intExp(i):\n",
      "    exp = 0\n",
      "    while(i%2 == 0):\n",
      "        i/=2\n",
      "        exp+=1\n",
      "    return exp        \n",
      "\n",
      "# jump amplitudes\n",
      "def jump(i):\n",
      "    k = intExp(i)\n",
      "    if(k==0):return 1\n",
      "    else:return v*r**(k-1)\n",
      "\n",
      "# build the hamiltonian (free boundary conditions)\n",
      "h = np.zeros((L,L))\n",
      "for i in range(L-1): \n",
      "    h[i,i+1] = jump(i+1)\n",
      "    h[i+1,i] = h[i,i+1]\n",
      "    \n",
      "# construct the \"band\", to use eig_banded method\n",
      "# there is 1 band above the diagonal, so a_band has shape (2,L)\n",
      "a_band = np.zeros((2,L))\n",
      "for i in range(L-1): a_band[0,i+1] = h[i,i+1]"
     ],
     "language": "python",
     "metadata": {},
     "outputs": [],
     "prompt_number": 35
    },
    {
     "cell_type": "code",
     "collapsed": false,
     "input": [
      "\"\"\" compute the eigenvalues \"\"\"\n",
      "\n",
      "# eigensystem for a banded hermitian matrix (our case!)\n",
      "val, vec = linalg.eig_banded(a_band)"
     ],
     "language": "python",
     "metadata": {},
     "outputs": [],
     "prompt_number": 36
    },
    {
     "cell_type": "code",
     "collapsed": false,
     "input": [
      "\"\"\" wow, such spectrum! much gaps! \"\"\"\n",
      "\n",
      "plt.title('The spectrum of the hierarchical chain, n = ' + str(n))\n",
      "plt.xlabel('energy label')\n",
      "plt.ylabel('energy')\n",
      "#plt.axis([0,L+1,-2.,2.])\n",
      "plt.plot(val)\n",
      "plt.show()"
     ],
     "language": "python",
     "metadata": {},
     "outputs": [
      {
       "metadata": {},
       "output_type": "display_data",
       "png": "[encoded data removed]",
       "text": [
        "<matplotlib.figure.Figure at 0x7f4379ac7390>"
       ]
      }
     ],
     "prompt_number": 37
    },
    {
     "cell_type": "code",
     "collapsed": false,
     "input": [
      "\"\"\" compute the propagator \"\"\"\n",
      "\n",
      "# for example, let's drop the wavepacket at the site number 2**(n-1)-1\n",
      "mid = 2**(n-1)-1\n",
      "def K(t):\n",
      "    expH = [math.exp(- 1j*t*e) for e in val]\n",
      "    math.fsum([math.exp(- 1j*t*val[k])*vec[i,k]*vec[mid,k], "
     ],
     "language": "python",
     "metadata": {},
     "outputs": []
    }
   ],
   "metadata": {}
  }
 ]
}