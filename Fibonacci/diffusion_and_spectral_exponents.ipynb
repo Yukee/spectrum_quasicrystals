{
 "cells": [
  {
   "cell_type": "code",
   "execution_count": 2,
   "metadata": {
    "collapsed": true
   },
   "outputs": [],
   "source": [
    "import numpy as np\n",
    "from scipy import linalg, stats\n",
    "import matplotlib.pyplot as plt\n",
    "\n",
    "\"\"\"\n",
    "Styling\n",
    "See: http://matplotlib.org/users/customizing.html\n",
    "\n",
    "TeX rendering:\n",
    "You can use TeX to render all of your matplotlib text if the rc\n",
    "parameter text.usetex is set.  This works currently on the agg and ps\n",
    "backends, and requires that you have tex and the other dependencies\n",
    "described at http://matplotlib.org/users/usetex.html\n",
    "properly installed on your system.  The first time you run a script\n",
    "you will see a lot of output from tex and associated tools.  The next\n",
    "time, the run may be silent, as a lot of the information is cached in\n",
    "~/.tex.cache\n",
    "\"\"\"\n",
    "from matplotlib import rc\n",
    "rc('font',**{'family':'sans-serif','sans-serif':['Computer Modern'], 'size':16})\n",
    "## for Palatino and other serif fonts use:\n",
    "#rc('font',**{'family':'serif','serif':['Palatino']})\n",
    "rc('text', usetex=True)\n",
    "# colors\n",
    "BostonBlue = np.array([0., 104., 139.])/255\n",
    "comp = np.array([200., 35., 0.])/255\n",
    "# linewidth of plots\n",
    "rc('lines', lw = 2)\n",
    "# fontsize of the labels\n",
    "rc('axes', labelsize = 16)\n",
    "# bbox='tight' tries to make the bounding box fit the plot area\n",
    "# pad_inches is the distance between the bounding box and the plot area\n",
    "# see http://matplotlib.org/users/tight_layout_guide.html\n",
    "rc('savefig', bbox = 'tight', pad_inches = .1)"
   ]
  },
  {
   "cell_type": "markdown",
   "metadata": {},
   "source": [
    "# Wavepackets dynamics on the Fibonacci chain.\n",
    "\n",
    "\n",
    "We diagonalize the hamiltonian. Then we can compute the propagator\n",
    "$$K_{ij}(t) = <j|\\exp(-i H t)|i>$$\n",
    "\n",
    "The probability to be at site j at time t, given that the wavepacket was dropped at site i initially is then simply\n",
    "$$P_i(j;t) = |K_{ij}(t)|^2$$\n",
    "The quadratic displacement from initial site $i$ is\n",
    "$$P_i(t) = \\sum_j (x_j - x_i)^2 P_i(j;t).$$\n",
    "We can generalize to arbitrary moments of the position operator:\n",
    "$$P_i(t;q) = \\sum_j (x_j - x_i)^q P_i(j;t).$$\n",
    "We are here interested in the *average diffusion*, defined by\n",
    "$$P(t;q) = \\frac{1}{N}\\sum_{i} P_i(t;q),$$ where $N$ is the system size.\n",
    "\n",
    "In the long-time limit, for the periodic infinite chain, we observe the power law behaviour\n",
    "$$P(t;q) \\sim t^{q}$$\n",
    "For the quasiperiodic Fibonacci chain, we expect the long-time behaviour to be a power law modulated by an oscillating function which will become $\\log$-periodic in the strong quasiperiodicity ($\\rho \\rightarrow 0$) limit. We write:\n",
    "$$P(t;q) \\sim F\\left( \\log t \\right) t^{q \\sigma_q}.$$\n",
    "We expect $\\sigma_q < 1$. \n",
    "Actually, we have stronger bounds on $\\sigma_q$. Guarneri showed that the quadratic coefficient is larger than the information dimension of the spectral measure:\n",
    "$$ \\sigma_2 \\geq D_1^\\mu. $$\n",
    "Ketzmerick et al exhibited a more precise lower bound involving the dimensions of the spectral measure and the dimensions of its support:\n",
    "$$ \\sigma_q \\geq D_2^\\mu/D_2. $$\n",
    "\n",
    "Piéchon conjuctured that $$\\sigma_q = D_{1-q},$$ solely relating the power-law coefficient to the dimensions of the support of the spectral measure.\n",
    "**Here we numerically test this conjecture.**\n",
    "\n",
    "## Numerics\n",
    "We use scipy linalg package to diagonalize the hamiltonian. We use the numpy.array structure for storage of the matrix.\n",
    "(scipy.sparse.linalg.eigsh is designed for hamiltonian sparse matrices, which precisely what we have,\n",
    "however it uses Lanczos algorithm, which typically only finds the highest eigenvalue with satisfying accuracy.)\n",
    "\n",
    "\n",
    "Define the intensity matrix $I_{i,j}(t) = |K_{i,j}(t)|^2$, and the position matrix $X_{i,j}(q) = (x_j - x_i)^q$.\n",
    "The average diffusion can be written as\n",
    "$$ P(t;q) = \\text{Tr}\\left( X(q) I(t) \\right). $$\n",
    "Writing it in this form is advantageous because numpy is optimized for vector operations."
   ]
  },
  {
   "cell_type": "code",
   "execution_count": 20,
   "metadata": {},
   "outputs": [],
   "source": [
    "\"\"\" build the Fibonacci tight-binding hamiltonian \"\"\"\n",
    "\n",
    "# compute Fibonacci numbers\n",
    "def fib(n):\n",
    "    a, b = 0, 1\n",
    "    for i in range(n):\n",
    "        a, b = b, a + b\n",
    "    return a\n",
    "\n",
    "# inverse golden ratio\n",
    "om = 2./(1.+np.sqrt(5))     \n",
    "\n",
    "# jump amplitudes\n",
    "def jump(n, i, tw, ts):\n",
    "    p = fib(n-2)    \n",
    "    q = fib(n-1)\n",
    "    L = fib(n)    \n",
    "    if(i*q % L < p):return ts\n",
    "    else:return tw\n",
    "    \n",
    "# build the hamiltonian (free boundary conditions)\n",
    "def h(n, rho):\n",
    "    L = fib(n)\n",
    "    h = np.zeros((L,L))\n",
    "    for i in range(L-1): \n",
    "        h[i,i+1] = jump(n, i, rho, 1.)\n",
    "        h[i+1,i] = h[i,i+1]\n",
    "    return h\n",
    "    \n",
    "# build the hamiltonian (periodic boundary conditions)\n",
    "def hp(n, rho):\n",
    "    L = fib(n)    \n",
    "    hp = np.zeros((L,L))\n",
    "    for i in range(L-1): \n",
    "        hp[i,i+1] = jump(n, i, rho, 1.)\n",
    "        hp[i+1,i] = hp[i,i+1]\n",
    "        hp[0,L-1] = jump(n, L-1, rho, 1.)\n",
    "        hp[L-1,0] = hp[0,L-1]\n",
    "    return hp\n",
    "\n",
    "def I(vec, t, x):\n",
    "    \"\"\"\n",
    "    List of on-site presence probabilities at time t, starting from the localized state at site x\n",
    "    vec: list of eigenstates\n",
    "    \"\"\"\n",
    "    psi0 = vec[x]\n",
    "    expH = np.array([np.exp(- 1j*t*e) for e in val])\n",
    "    return abs(vec.dot(expH*psi0))**2\n",
    "\n",
    "# matrix of the q-distances: D_{ij}(q) = |x_i-x_j|^q\n",
    "dists = lambda q: np.fromfunction(lambda j,i: (np.minimum(abs(i-j),L-abs(i-j))/float(L))**q, (L, L))\n",
    "\n",
    "def avP(vec, t, q):\n",
    "    \"\"\"\n",
    "    Average (over all starting sites) expectation value for x^q(t), for a given list of eigenstates vec\n",
    "    \"\"\"\n",
    "    # construct the matrix of intensities at time t\n",
    "    Is = np.array([I(vec, t,j) for j in range(L)])\n",
    "    \n",
    "    return np.trace(np.dot(Is, dists(q)))/L"
   ]
  },
  {
   "cell_type": "code",
   "execution_count": 21,
   "metadata": {
    "collapsed": true
   },
   "outputs": [],
   "source": [
    "\"\"\"\n",
    "Diagonalize the Hamiltonian\n",
    "\"\"\"\n",
    "\n",
    "# diagonalize\n",
    "rho = 1.\n",
    "n = 13\n",
    "L = fib(n)\n",
    "val, vec = linalg.eigh(hp(n, rho))"
   ]
  },
  {
   "cell_type": "code",
   "execution_count": 22,
   "metadata": {},
   "outputs": [
    {
     "data": {
      "text/plain": [
       "233"
      ]
     },
     "execution_count": 22,
     "metadata": {},
     "output_type": "execute_result"
    }
   ],
   "source": [
    "len(val)"
   ]
  },
  {
   "cell_type": "code",
   "execution_count": 15,
   "metadata": {},
   "outputs": [
    {
     "data": {
      "image/png": "[encoded data removed]",
      "text/plain": [
       "<matplotlib.figure.Figure at 0x7f929c1112b0>"
      ]
     },
     "metadata": {},
     "output_type": "display_data"
    }
   ],
   "source": [
    "\"\"\"\n",
    "Solve for the dynamics\n",
    "\"\"\"\n",
    "q = 15.\n",
    "tRange = 10**np.arange(-1,8,.3)\n",
    "\n",
    "p1 = [avP(vec, t, q) for t in tRange]\n",
    "\n",
    "plt.loglog(tRange, p1, 'o')\n",
    "plt.show()"
   ]
  },
  {
   "cell_type": "code",
   "execution_count": 17,
   "metadata": {},
   "outputs": [
    {
     "data": {
      "image/png": "[encoded data removed]",
      "text/plain": [
       "<matplotlib.figure.Figure at 0x7f929686e0b8>"
      ]
     },
     "metadata": {},
     "output_type": "display_data"
    },
    {
     "data": {
      "text/plain": [
       "(0.95671364775292411, 0.01404511955790743)"
      ]
     },
     "execution_count": 17,
     "metadata": {},
     "output_type": "execute_result"
    }
   ],
   "source": [
    "\"\"\"\n",
    "Fit\n",
    "\"\"\"\n",
    "\n",
    "def fit(plist, pmin, pmax, plot = False):\n",
    "    \"\"\"\n",
    "    /!\\ return sigma = slope/q, ie sigma defined as <x(t)^q> ~ t^{q*sigma}\n",
    "    \"\"\"\n",
    "    tRangeFit = tRange[pmin:pmax]\n",
    "    plistFit = plist[pmin:pmax]\n",
    "        \n",
    "    # data in log-log scale\n",
    "    logP = np.log(plistFit)\n",
    "    logT = np.log(tRangeFit)\n",
    "    slope, intercept, r_value, p_value, std_err = stats.linregress(logT,logP)\n",
    "    \n",
    "    if plot:\n",
    "        plt.loglog(tRange, plist, 'o')\n",
    "        plt.loglog(tRangeFit, plistFit, 'o')\n",
    "        plt.loglog(tRange, np.exp(intercept)*tRange**slope, '-')\n",
    "        plt.xlabel(\"t\")\n",
    "        plt.ylabel(r\"$P_t$\")\n",
    "        plt.show()\n",
    "    \n",
    "    return slope/q, std_err/q\n",
    "\n",
    "fit(p1, 5, 10, True)"
   ]
  },
  {
   "cell_type": "markdown",
   "metadata": {},
   "source": [
    "We set manually the fitting area for each value of rho. Let us start with...\n",
    "# $\\rho = 0.9$"
   ]
  },
  {
   "cell_type": "code",
   "execution_count": 28,
   "metadata": {
    "collapsed": true
   },
   "outputs": [],
   "source": [
    "# diagonalize\n",
    "rho = .9\n",
    "n = 13\n",
    "L = fib(n)\n",
    "val, vec = linalg.eigh(hp(n, rho))"
   ]
  },
  {
   "cell_type": "code",
   "execution_count": 31,
   "metadata": {},
   "outputs": [
    {
     "data": {
      "image/png": "[encoded data removed]",
      "text/plain": [
       "<matplotlib.figure.Figure at 0x7f92967d1d30>"
      ]
     },
     "metadata": {},
     "output_type": "display_data"
    }
   ],
   "source": [
    "\"\"\"\n",
    "Solve for the dynamics\n",
    "\"\"\"\n",
    "q = 15.\n",
    "tRange = 10**np.arange(-1,4,.2)\n",
    "\n",
    "p1 = [avP(vec, t, q) for t in tRange]\n",
    "\n",
    "plt.loglog(tRange, p1, 'o')\n",
    "plt.show()"
   ]
  },
  {
   "cell_type": "code",
   "execution_count": 32,
   "metadata": {},
   "outputs": [
    {
     "data": {
      "image/png": "[encoded data removed]",
      "text/plain": [
       "<matplotlib.figure.Figure at 0x7f9294d9ee80>"
      ]
     },
     "metadata": {},
     "output_type": "display_data"
    },
    {
     "data": {
      "text/plain": [
       "(0.9652347686165812, 0.0032754075101268871)"
      ]
     },
     "execution_count": 32,
     "metadata": {},
     "output_type": "execute_result"
    }
   ],
   "source": [
    "fit(p1, 9, 15, True)"
   ]
  },
  {
   "cell_type": "code",
   "execution_count": 33,
   "metadata": {
    "collapsed": true
   },
   "outputs": [],
   "source": [
    "qrange = np.arange(1., 15., 1.)\n",
    "\n",
    "tRange = 10**np.arange(-1,4,.2)\n",
    "\n",
    "sigmas09 = []\n",
    "stds09 = []\n",
    "for q in qrange:\n",
    "    p = [avP(vec, t, q) for t in tRange]\n",
    "    sigma, std = fit(p, 9, 14, False)\n",
    "    sigmas09.append(sigma)\n",
    "    stds09.append(std)"
   ]
  },
  {
   "cell_type": "code",
   "execution_count": 34,
   "metadata": {},
   "outputs": [
    {
     "data": {
      "image/png": "[encoded data removed]",
      "text/plain": [
       "<matplotlib.figure.Figure at 0x7f929c2e1978>"
      ]
     },
     "metadata": {},
     "output_type": "display_data"
    }
   ],
   "source": [
    "plt.errorbar(qrange, sigmas09, yerr=stds09, fmt='o')\n",
    "plt.xlabel(\"q\")\n",
    "plt.ylabel(r\"$\\sigma_q$\")\n",
    "plt.show()"
   ]
  },
  {
   "cell_type": "code",
   "execution_count": 148,
   "metadata": {},
   "outputs": [
    {
     "data": {
      "image/png": "[encoded data removed]",
      "text/plain": [
       "<matplotlib.figure.Figure at 0x7fd5e49a1048>"
      ]
     },
     "metadata": {},
     "output_type": "display_data"
    }
   ],
   "source": [
    "plt.errorbar(qrange, sigmas09, yerr=stds09, fmt='o')\n",
    "plt.xlabel(\"q\")\n",
    "plt.ylabel(r\"$\\sigma_q$\")\n",
    "plt.show()"
   ]
  },
  {
   "cell_type": "markdown",
   "metadata": {},
   "source": [
    "# Fractal dimensions of the spectrum ($\\rho = 0.9$)"
   ]
  },
  {
   "cell_type": "code",
   "execution_count": 35,
   "metadata": {
    "collapsed": true
   },
   "outputs": [],
   "source": [
    "\"\"\"\n",
    "D_q (computed with Mathematica, see notebook fractal_dimensions.nd)\n",
    "\"\"\"\n",
    "dq = np.array([[0, 0.953091], [-1, 0.960541], [-2, 0.96496], [-3, 0.96797], [-4, \n",
    "  0.970194], [-5, 0.971916], [-6, 0.973293], [-7, 0.974422], [-8, \n",
    "  0.97537], [-9, 0.976184], [-10, 0.976896], [-11, 0.977529], [-12, \n",
    "  0.9781], [-13, 0.97862], [-14, 0.979099]])\n",
    "q, dq = dq.T"
   ]
  },
  {
   "cell_type": "code",
   "execution_count": 36,
   "metadata": {},
   "outputs": [
    {
     "data": {
      "image/png": "[encoded data removed]",
      "text/plain": [
       "<matplotlib.figure.Figure at 0x7f929c30f6d8>"
      ]
     },
     "metadata": {},
     "output_type": "display_data"
    }
   ],
   "source": [
    "plt.errorbar(qrange, sigmas09, yerr=stds09, fmt='o')\n",
    "plt.plot(1-q, dq, '-')\n",
    "plt.legend((r\"$D_{1-q}$\", r\"$\\sigma_q$\"))\n",
    "plt.xlabel(r\"$q$\")\n",
    "plt.savefig(\"diffusion_and_spectral_exponents_rho_09.pdf\")\n",
    "plt.show()"
   ]
  },
  {
   "cell_type": "markdown",
   "metadata": {},
   "source": [
    "# $\\rho = 0.9$, bigger system\n",
    "Using a bigger chain allows us to compute the dynamics for a longer time. We check that this does not change significatively the $\\sigma$ values."
   ]
  },
  {
   "cell_type": "code",
   "execution_count": 136,
   "metadata": {
    "collapsed": true
   },
   "outputs": [],
   "source": [
    "# diagonalize\n",
    "rho = .9\n",
    "n = 15\n",
    "L = fib(n)\n",
    "val, vec = linalg.eigh(hp(n, rho))"
   ]
  },
  {
   "cell_type": "code",
   "execution_count": 137,
   "metadata": {},
   "outputs": [
    {
     "data": {
      "image/png": "[encoded data removed]",
      "text/plain": [
       "<matplotlib.figure.Figure at 0x7fd5eca866d8>"
      ]
     },
     "metadata": {},
     "output_type": "display_data"
    }
   ],
   "source": [
    "\"\"\"\n",
    "Solve for the dynamics\n",
    "\"\"\"\n",
    "q = 10.\n",
    "tRange = 10**np.arange(-1,4,.2)\n",
    "\n",
    "p1 = [avP(vec, t, q) for t in tRange]\n",
    "\n",
    "plt.loglog(tRange, p1, 'o')\n",
    "plt.show()"
   ]
  },
  {
   "cell_type": "code",
   "execution_count": 142,
   "metadata": {},
   "outputs": [
    {
     "data": {
      "image/png": "[encoded data removed]",
      "text/plain": [
       "<matplotlib.figure.Figure at 0x7fd5e48575c0>"
      ]
     },
     "metadata": {},
     "output_type": "display_data"
    },
    {
     "data": {
      "text/plain": [
       "(0.97409688637647029, 0.00085452690226128726)"
      ]
     },
     "execution_count": 142,
     "metadata": {},
     "output_type": "execute_result"
    }
   ],
   "source": [
    "\"\"\"\n",
    "We have two extra points to fit on, and these points do not change significatively the value of sigma.\n",
    "\"\"\"\n",
    "fit(p1, 9, 15, True)"
   ]
  },
  {
   "cell_type": "markdown",
   "metadata": {},
   "source": [
    "# $\\rho = 0.1$"
   ]
  },
  {
   "cell_type": "code",
   "execution_count": 151,
   "metadata": {
    "collapsed": true
   },
   "outputs": [],
   "source": [
    "\"\"\"\n",
    "Diagonalize the Hamiltonian\n",
    "\"\"\"\n",
    "\n",
    "# diagonalize\n",
    "rho = .1\n",
    "n = 13\n",
    "L = fib(n)\n",
    "val, vec = linalg.eigh(hp(n, rho))"
   ]
  },
  {
   "cell_type": "code",
   "execution_count": 167,
   "metadata": {},
   "outputs": [
    {
     "data": {
      "image/png": "[encoded data removed]",
      "text/plain": [
       "<matplotlib.figure.Figure at 0x7fd5e4a8f8d0>"
      ]
     },
     "metadata": {},
     "output_type": "display_data"
    }
   ],
   "source": [
    "\"\"\"\n",
    "Solve for the dynamics\n",
    "\"\"\"\n",
    "q = 1.\n",
    "tRange = 10**np.arange(-1,8,.3)\n",
    "\n",
    "p1 = [avP(vec, t, q) for t in tRange]\n",
    "\n",
    "plt.loglog(tRange, p1, 'o')\n",
    "plt.show()"
   ]
  },
  {
   "cell_type": "code",
   "execution_count": 168,
   "metadata": {},
   "outputs": [
    {
     "data": {
      "image/png": "[encoded data removed]",
      "text/plain": [
       "<matplotlib.figure.Figure at 0x7fd5e49a1710>"
      ]
     },
     "metadata": {},
     "output_type": "display_data"
    },
    {
     "data": {
      "text/plain": [
       "(0.33626329792905374, 0.021476113676176366)"
      ]
     },
     "execution_count": 168,
     "metadata": {},
     "output_type": "execute_result"
    }
   ],
   "source": [
    "fit(p1, 7, 22, True)"
   ]
  },
  {
   "cell_type": "code",
   "execution_count": 165,
   "metadata": {
    "collapsed": true
   },
   "outputs": [],
   "source": [
    "qrange = np.arange(1., 15., 1.)\n",
    "\n",
    "tRange = 10**np.arange(-1,8,.3)\n",
    "\n",
    "sigmas01 = []\n",
    "stds01 = []\n",
    "for q in qrange:\n",
    "    p = [avP(vec, t, q) for t in tRange]\n",
    "    sigma, std = fit(p, 9, 15, False)\n",
    "    sigmas01.append(sigma)\n",
    "    stds01.append(std)"
   ]
  },
  {
   "cell_type": "code",
   "execution_count": 171,
   "metadata": {},
   "outputs": [
    {
     "data": {
      "image/png": "[encoded data removed]",
      "text/plain": [
       "<matplotlib.figure.Figure at 0x7fd5ec791f60>"
      ]
     },
     "metadata": {},
     "output_type": "display_data"
    }
   ],
   "source": [
    "plt.errorbar(qrange[2:], sigmas01[2:], yerr=stds01[2:], fmt='o')\n",
    "plt.xlabel(\"q\")\n",
    "plt.ylabel(r\"$\\sigma_q$\")\n",
    "plt.show()"
   ]
  },
  {
   "cell_type": "markdown",
   "metadata": {},
   "source": [
    "# Fractal dimensions of the spectrum ($\\rho = 0.1$)"
   ]
  },
  {
   "cell_type": "code",
   "execution_count": 173,
   "metadata": {
    "collapsed": true
   },
   "outputs": [],
   "source": [
    "dq01 = np.array([[0,0.3179954168448033],\n",
    "[-1,0.31825054126953356],\n",
    "[-2,0.31855096795033344],\n",
    "[-3,0.31890233611121943],\n",
    "[-4,0.3193099402918931],\n",
    "[-5,0.31977877778399655],\n",
    "[-6,0.3203135970355679],\n",
    "[-7,0.3209189118064395],\n",
    "[-8,0.3215989622272461],\n",
    "[-9,0.32235761835418586],\n",
    "[-10,0.32319823193499747],\n",
    "[-11,0.3241234483509898],\n",
    "[-12,0.3251349945450098],\n",
    "[-13,0.32623346147310284],\n",
    "[-14,0.32741810181706404]])\n",
    "q, dq01 = dq01.T"
   ]
  },
  {
   "cell_type": "code",
   "execution_count": 179,
   "metadata": {},
   "outputs": [
    {
     "data": {
      "image/png": "[encoded data removed]",
      "text/plain": [
       "<matplotlib.figure.Figure at 0x7fd5ec9e41d0>"
      ]
     },
     "metadata": {},
     "output_type": "display_data"
    }
   ],
   "source": [
    "plt.errorbar(qrange, sigmas01, yerr=stds01, fmt='o')\n",
    "plt.plot(1-q, dq01, '-')\n",
    "plt.legend((r\"$D_{1-q}$\", r\"$\\sigma_q$\"))\n",
    "plt.xlabel(r\"$q$\")\n",
    "plt.savefig(\"diffusion_and_spectral_exponents_rho_01.pdf\")\n",
    "plt.show()"
   ]
  },
  {
   "cell_type": "code",
   "execution_count": null,
   "metadata": {
    "collapsed": true
   },
   "outputs": [],
   "source": []
  }
 ],
 "metadata": {
  "kernelspec": {
   "display_name": "Python 3",
   "language": "python",
   "name": "python3"
  },
  "language_info": {
   "codemirror_mode": {
    "name": "ipython",
    "version": 3
   },
   "file_extension": ".py",
   "mimetype": "text/x-python",
   "name": "python",
   "nbconvert_exporter": "python",
   "pygments_lexer": "ipython3",
   "version": "3.6.2"
  }
 },
 "nbformat": 4,
 "nbformat_minor": 2
}
