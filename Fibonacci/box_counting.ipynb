{
 "cells": [
  {
   "cell_type": "markdown",
   "metadata": {},
   "source": [
    "# Box-counting\n",
    "\n",
    "## Box-counting for 1D sets\n",
    "\n",
    "We consider a set $S = \\{ ..., \\{ p_i, \\mu_i \\}, ... \\}$ covering an interval $I$ on the real line. We cover $I$ with boxes of equal size. \n",
    "We count the point $p$ in the box $b$ if \n",
    "$$ b \\epsilon \\leq p  < (b+1)\\epsilon, $$ \n",
    "where $\\epsilon$ in the size of the boxes. By convention the last point is in the last box.\n",
    "This is equivalent to saying that point $p$ is in the $b^\\text{th}$ box (labelling from small to large absissas) iff\n",
    "$$ \\text{floor}\\left( \\frac{p}{\\epsilon} \\right) = b. $$\n",
    "\n",
    "We can either keep $\\epsilon$ fixed, say $\\epsilon = 1$, and vary the length of $I$, or keep the length of $I$ fixed and vary $\\epsilon$. We are going to adopt this latter point of view.\n",
    "\n",
    "We define the $q$-weight, or partition function, at length scale $\\epsilon$:\n",
    "$$ \\chi_q(\\epsilon) = \\sum_b \\left( \\mu_\\epsilon(b) \\right)^q $$\n",
    "where $\\mu_\\epsilon(b)$ is the weight of the box $b$:\n",
    "$$ \\mu_\\epsilon(b) = \\sum_{i \\text{ in } b} \\mu_i  $$.\n",
    "\n",
    "Multifractal thermodynamic theory tells us that the $q$-weight is related to the fractal dimensions in the same way than the partition function of a thermodynamic system is related to its free energy:\n",
    "$$ \\tau_q \\sim \\frac{\\log \\chi_q(\\epsilon)}{\\log \\epsilon}$$\n",
    "where we take $\\epsilon \\rightarrow 0$ limit, equivalent to the thermodynamic limit of a thermodynamic system."
   ]
  },
  {
   "cell_type": "code",
   "execution_count": 1,
   "metadata": {
    "collapsed": true
   },
   "outputs": [],
   "source": [
    "import numpy as np\n",
    "from scipy import linalg, stats\n",
    "import matplotlib.pyplot as plt\n",
    "import math\n",
    "from cmath import exp\n",
    "import time\n",
    "%matplotlib inline"
   ]
  },
  {
   "cell_type": "code",
   "execution_count": 2,
   "metadata": {
    "collapsed": true
   },
   "outputs": [],
   "source": [
    "s = np.arange(0,10,1.)"
   ]
  },
  {
   "cell_type": "code",
   "execution_count": 3,
   "metadata": {
    "collapsed": false
   },
   "outputs": [],
   "source": [
    "# rescale S between m and M\n",
    "def rescale(s,m,M):\n",
    "    return (M-m)*(s-s[0])/(s[-1]-s[0])+m"
   ]
  },
  {
   "cell_type": "code",
   "execution_count": 220,
   "metadata": {
    "collapsed": false
   },
   "outputs": [],
   "source": [
    "\"\"\" compute the q-weigth (or partition function) of S \"\"\"\n",
    "\n",
    "# s: set of absissas, w: set of corresponding weigths\n",
    "def qWeigth(s, w, epsilon, q):\n",
    "    # checks\n",
    "    if len(s) != len(w): return(\"the sets of absissas and weights are of unequal lenths\")\n",
    "    #if sum(w) != 1.: return(\"the weights are not normalized to 1\")\n",
    "    \n",
    "    # rescale the set between 0 and 1\n",
    "    s = rescale(s, 0., 1.)\n",
    "    # total q-weight\n",
    "    qw = 0\n",
    "    # weight in the current box\n",
    "    curw = w[0]\n",
    "    # label of the current box\n",
    "    b = 0\n",
    "    \n",
    "    for i in range(1,len(s)-1):\n",
    "        bnew = math.floor(s[i]/epsilon)\n",
    "        # if the current point is in the same box as the one juste at its left, add its weigth to the total weight in the current box\n",
    "        if bnew == b:\n",
    "            curw += w[i]\n",
    "        # else the current point is in a new box, add the last box weight to the total q-weight, set the current label to this box\n",
    "        else:\n",
    "            qw += curw**q\n",
    "            curw = w[i]\n",
    "            b = bnew\n",
    "            \n",
    "    # the last point is in the last box\n",
    "    nb = math.floor(1./epsilon)\n",
    "    if b < nb-1:\n",
    "        qw += curw**q\n",
    "        qw += w[-1]**q\n",
    "    elif b == nb-1:\n",
    "        curw += w[-1]\n",
    "        qw += curw**q\n",
    "    else: print(\"oho! espilon = \" + str(epsilon) + ' b, nb = ' +str(b) +str(nb))\n",
    "    \n",
    "    return qw"
   ]
  },
  {
   "cell_type": "code",
   "execution_count": 170,
   "metadata": {
    "collapsed": false
   },
   "outputs": [
    {
     "data": {
      "text/plain": [
       "1.0000000000000009"
      ]
     },
     "execution_count": 170,
     "metadata": {},
     "output_type": "execute_result"
    }
   ],
   "source": [
    "qWeigth(s,[1./len(s) for p in s],0.1,1)"
   ]
  },
  {
   "cell_type": "code",
   "execution_count": 125,
   "metadata": {
    "collapsed": false
   },
   "outputs": [
    {
     "data": {
      "text/plain": [
       "1.000000000000008"
      ]
     },
     "execution_count": 125,
     "metadata": {},
     "output_type": "execute_result"
    }
   ],
   "source": [
    "sum([1./len(s) for p in s])"
   ]
  },
  {
   "cell_type": "markdown",
   "metadata": {
    "collapsed": false
   },
   "source": [
    "## Application to the Fibonacci Hamiltonian\n",
    "\n",
    "We consider Fibonacci tight-binding Hamiltonian with pure hopping.\n",
    "\n",
    "We can compute the fractal dimensions of the wavefunctions. We then take the positions and the weigths to be:\n",
    "$$ p_i = x_i, \\text{ and } w_i =|\\psi_E(x_i)|^2  $$\n",
    "where $\\psi_E(x_i)$ is the coefficient at site $i$ of position $x_i$ of the wavefunction associated to the energy $E$.\n",
    "\n",
    "We can also compute the fractal dimensions of the spectrum. This time $p_i$ is the position of the band $i$, and $w_i$ is the width of this band.\n",
    "\n",
    "We can as well compute the fractal dimensions of the local spectral measure $\\mu_{x,x}(E)$. $p_i$ is still the position of the band $i$, and $w_i$ is the local density of states at position $x$ and energy in the band $i$."
   ]
  },
  {
   "cell_type": "code",
   "execution_count": 34,
   "metadata": {
    "collapsed": false
   },
   "outputs": [],
   "source": [
    "\"\"\" build the Fibonacci tight-binding hamiltonian \"\"\"\n",
    "\n",
    "# couplings\n",
    "tw = 1.\n",
    "ts = 1.\n",
    "\n",
    "# compute Fibonacci numbers\n",
    "def fib(n):\n",
    "    a, b = 0, 1\n",
    "    for i in range(n):\n",
    "        a, b = b, a + b\n",
    "    return a\n",
    "\n",
    "# inverse golden ratio\n",
    "om = 2./(1.+math.sqrt(5))\n",
    "\n",
    "# size\n",
    "n = 14\n",
    "L = fib(n)\n",
    "\n",
    "# i = oddNumber*2**intExp(i)\n",
    "def intExp(i):\n",
    "    exp = 0\n",
    "    while(i%2 == 0):\n",
    "        i/=2\n",
    "        exp+=1\n",
    "    return exp        \n",
    "\n",
    "# jump amplitudes\n",
    "def jump(i):\n",
    "    fibi = int(om*(i+1)) - int(om*i) # an integer taking values 0 or 1 occordingly to Fibonacci sequence\n",
    "    if(fibi < 1):return ts\n",
    "    else:return tw\n",
    "\n",
    "# build the hamiltonian (free boundary conditions)\n",
    "h = np.zeros((L,L))\n",
    "for i in range(L-1): \n",
    "    h[i,i+1] = jump(i+1)\n",
    "    h[i+1,i] = h[i,i+1]\n",
    "    \n",
    "# construct the \"band\", to use eig_banded method\n",
    "# there is 1 band above the diagonal, so a_band has shape (2,L)\n",
    "a_band = np.zeros((2,L))\n",
    "for i in range(L-1): a_band[0,i+1] = h[i,i+1]"
   ]
  },
  {
   "cell_type": "code",
   "execution_count": 35,
   "metadata": {
    "collapsed": false
   },
   "outputs": [],
   "source": [
    "\"\"\" compute the eigenvalues \"\"\"\n",
    "\n",
    "# eigensystem for a banded hermitian matrix (our case!)\n",
    "val, vec = linalg.eig_banded(a_band)"
   ]
  },
  {
   "cell_type": "code",
   "execution_count": 36,
   "metadata": {
    "collapsed": false
   },
   "outputs": [
    {
     "data": {
      "image/png": "[encoded data removed]",
      "text/plain": [
       "<matplotlib.figure.Figure at 0x7fbc3235ca90>"
      ]
     },
     "metadata": {},
     "output_type": "display_data"
    }
   ],
   "source": [
    "\"\"\" wow, such spectrum! much gaps! \"\"\"\n",
    "\n",
    "plt.title('The spectrum of the Fibonacci chain, n = ' + str(n))\n",
    "plt.xlabel('energy label')\n",
    "plt.ylabel('energy')\n",
    "#plt.axis([0,L+1,-2.,2.])\n",
    "plt.plot(val)\n",
    "plt.show()"
   ]
  },
  {
   "cell_type": "code",
   "execution_count": 37,
   "metadata": {
    "collapsed": false
   },
   "outputs": [
    {
     "data": {
      "image/png": "[encoded data removed]",
      "text/plain": [
       "<matplotlib.figure.Figure at 0x7fbc323e4828>"
      ]
     },
     "metadata": {},
     "output_type": "display_data"
    }
   ],
   "source": [
    "\"\"\" plot a wavefunction \"\"\"\n",
    "\n",
    "e = 188\n",
    "plt.title('The wavefunction of energy E = ' + str(val[e]))\n",
    "plt.xlabel('site label')\n",
    "plt.ylabel('amplitude')\n",
    "#plt.axis([0,L+1,-2.,2.])\n",
    "plt.plot(vec[e])\n",
    "plt.show()"
   ]
  },
  {
   "cell_type": "code",
   "execution_count": 182,
   "metadata": {
    "collapsed": false
   },
   "outputs": [],
   "source": [
    "\"\"\" box counting for wavefunctions \"\"\"\n",
    "\n",
    "# choose an energy\n",
    "e = 1\n",
    "# position set\n",
    "s = np.arange(0,L,1.)\n",
    "# weigth set\n",
    "w = abs(vec[e])**2"
   ]
  },
  {
   "cell_type": "code",
   "execution_count": 187,
   "metadata": {
    "collapsed": false
   },
   "outputs": [
    {
     "data": {
      "text/plain": [
       "1.0"
      ]
     },
     "execution_count": 187,
     "metadata": {},
     "output_type": "execute_result"
    }
   ],
   "source": [
    "qWeigth(s, w, 1.,0)"
   ]
  },
  {
   "cell_type": "code",
   "execution_count": 200,
   "metadata": {
    "collapsed": false
   },
   "outputs": [
    {
     "name": "stdout",
     "output_type": "stream",
     "text": [
      "oho!\n",
      "oho!\n"
     ]
    },
    {
     "data": {
      "image/png": "[encoded data removed]",
      "text/plain": [
       "<matplotlib.figure.Figure at 0x7fbc32472240>"
      ]
     },
     "metadata": {},
     "output_type": "display_data"
    }
   ],
   "source": [
    "\"\"\" Lineart regression of the data \"\"\"\n",
    "\n",
    "q = 0.\n",
    "\n",
    "epsilonRange = 10**np.arange(-4,-2,.1)\n",
    "qwList = [qWeigth(s, w, epsilon, q) for epsilon in epsilonRange]\n",
    "\n",
    "epsilonRange2 = 10**np.arange(-4,-3,.1)\n",
    "qwList2 = [qWeigth(s, w, epsilon, q) for epsilon in epsilonRange2]\n",
    "\n",
    "plt.title('The q-weigth for the wavefunction associated to E = ' + str(val[e]) + ' for q = ' + str(q))\n",
    "plt.xlabel('log epsilon')\n",
    "plt.ylabel('log chi')\n",
    "#plt.axis([0,L+1,-2.,2.])\n",
    "plt.loglog(epsilonRange, qwList,'o',markersize=3.)\n",
    "plt.loglog(epsilonRange2, qwList2,'-,r',markersize=3.)\n",
    "plt.show()\n",
    "\n",
    "# data in log-log scale\n",
    "logQW = [math.log(qw) for qw in qwList2]\n",
    "logEps = [math.log(eps) for eps in epsilonRange2]\n",
    "\n",
    "slope, intercept, r_value, p_value, std_err = stats.linregress(logEps,logQW)"
   ]
  },
  {
   "cell_type": "code",
   "execution_count": 203,
   "metadata": {
    "collapsed": false
   },
   "outputs": [
    {
     "name": "stdout",
     "output_type": "stream",
     "text": [
      "oho! espilon = 0.0063095734448\n",
      "oho! espilon = 0.00794328234724\n"
     ]
    },
    {
     "data": {
      "text/plain": [
       "[377.0,\n",
       " 377.0,\n",
       " 377.0,\n",
       " 377.0,\n",
       " 377.0,\n",
       " 377.0,\n",
       " 377.0,\n",
       " 377.0,\n",
       " 377.0,\n",
       " 377.0,\n",
       " 377.0,\n",
       " 377.0,\n",
       " 376.0,\n",
       " 377.0,\n",
       " 376.0,\n",
       " 316.0,\n",
       " 251.0,\n",
       " 199.0,\n",
       " 158.0,\n",
       " 125.0]"
      ]
     },
     "execution_count": 203,
     "metadata": {},
     "output_type": "execute_result"
    }
   ],
   "source": [
    "epsilonRange2\n",
    "[qWeigth(s, w, epsilon, q) for epsilon in epsilonRange]"
   ]
  },
  {
   "cell_type": "code",
   "execution_count": 218,
   "metadata": {
    "collapsed": false
   },
   "outputs": [
    {
     "name": "stdout",
     "output_type": "stream",
     "text": [
      "oho! espilon = 0.006 b, nb = 166166\n"
     ]
    },
    {
     "data": {
      "text/plain": [
       "166.0"
      ]
     },
     "execution_count": 218,
     "metadata": {},
     "output_type": "execute_result"
    }
   ],
   "source": [
    "qWeigth(s, w, 0.006, q)"
   ]
  },
  {
   "cell_type": "code",
   "execution_count": 235,
   "metadata": {
    "collapsed": false
   },
   "outputs": [
    {
     "data": {
      "text/plain": [
       "1"
      ]
     },
     "execution_count": 235,
     "metadata": {},
     "output_type": "execute_result"
    }
   ],
   "source": [
    "int(0.9999999/0.6)"
   ]
  },
  {
   "cell_type": "code",
   "execution_count": 236,
   "metadata": {
    "collapsed": false
   },
   "outputs": [
    {
     "data": {
      "text/plain": [
       "1"
      ]
     },
     "execution_count": 236,
     "metadata": {},
     "output_type": "execute_result"
    }
   ],
   "source": [
    "# the number of boxes is not 1 but 2 in this case !! This is because part of the last box falls out of the interval I, and this is bad !!\n",
    "math.floor(1./0.6)"
   ]
  },
  {
   "cell_type": "code",
   "execution_count": null,
   "metadata": {
    "collapsed": true
   },
   "outputs": [],
   "source": []
  }
 ],
 "metadata": {
  "kernelspec": {
   "display_name": "Python 3",
   "language": "python",
   "name": "python3"
  },
  "language_info": {
   "codemirror_mode": {
    "name": "ipython",
    "version": 3
   },
   "file_extension": ".py",
   "mimetype": "text/x-python",
   "name": "python",
   "nbconvert_exporter": "python",
   "pygments_lexer": "ipython3",
   "version": "3.4.3"
  }
 },
 "nbformat": 4,
 "nbformat_minor": 0
}
