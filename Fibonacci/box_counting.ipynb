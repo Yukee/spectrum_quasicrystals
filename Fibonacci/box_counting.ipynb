{
 "cells": [
  {
   "cell_type": "markdown",
   "metadata": {},
   "source": [
    "# Box-counting\n",
    "\n",
    "## Box-counting for 1D sets\n",
    "\n",
    "We consider a set $S = \\{ ..., \\{ p_i, \\mu_i \\}, ... \\}$ covering an interval $I$ on the real line. We cover $I$ with boxes of equal size. \n",
    "We count the point $p$ in the box $b$ if \n",
    "$$ b \\epsilon \\leq p  < (b+1)\\epsilon, $$ \n",
    "where $\\epsilon$ in the size of the boxes. By convention the last point is in the last box.\n",
    "This is equivalent to saying that point $p$ is in the $b^\\text{th}$ box (labelling from small to large absissas) iff\n",
    "$$ \\text{floor}\\left( \\frac{p}{\\epsilon} \\right) = b. $$\n",
    "\n",
    "We can either keep $\\epsilon$ fixed, say $\\epsilon = 1$, and vary the length of $I$, or keep the length of $I$ fixed and vary $\\epsilon$. We are going to adopt this latter point of view.\n",
    "\n",
    "We define the $q$-weight, or partition function, at length scale $\\epsilon$:\n",
    "$$ \\chi_q(\\epsilon) = \\sum_b \\left( \\mu_\\epsilon(b) \\right)^q $$\n",
    "where $\\mu_\\epsilon(b)$ is the weight of the box $b$:\n",
    "$$ \\mu_\\epsilon(b) = \\sum_{i \\text{ in } b} \\mu_i  $$.\n",
    "\n",
    "Multifractal thermodynamic theory tells us that the $q$-weight is related to the fractal dimensions in the same way than the partition function of a thermodynamic system is related to its free energy:\n",
    "$$ \\tau_q \\sim \\frac{\\log \\chi_q(\\epsilon)}{\\log \\epsilon}$$\n",
    "where we take $\\epsilon \\rightarrow 0$ limit, equivalent to the thermodynamic limit of a thermodynamic system.\n",
    "\n",
    "## Application to the Fibonacci chain"
   ]
  },
  {
   "cell_type": "code",
   "execution_count": 1,
   "metadata": {
    "collapsed": true
   },
   "outputs": [],
   "source": [
    "import numpy as np\n",
    "from scipy import linalg, stats\n",
    "import matplotlib.pyplot as plt\n",
    "import math\n",
    "from cmath import exp\n",
    "import time\n",
    "%matplotlib inline"
   ]
  },
  {
   "cell_type": "code",
   "execution_count": 6,
   "metadata": {
    "collapsed": true
   },
   "outputs": [],
   "source": [
    "s = np.arange(0,10,1.)"
   ]
  },
  {
   "cell_type": "code",
   "execution_count": 12,
   "metadata": {
    "collapsed": false
   },
   "outputs": [],
   "source": [
    "# rescale S between m and M\n",
    "def rescale(s,m,M):\n",
    "    return (M-m)*(s-s[0])/(s[-1]-s[0])+m"
   ]
  },
  {
   "cell_type": "code",
   "execution_count": 51,
   "metadata": {
    "collapsed": false
   },
   "outputs": [],
   "source": [
    "\"\"\" compute the q-weigth (or partition function) of S \"\"\"\n",
    "\n",
    "# s: set of absissas, w: set of corresponding weigths\n",
    "def qWeigth(s, w, epsilon, q):\n",
    "    # checks\n",
    "    if len(s) != len(w): return(\"the sets of absissas and weights are of unequal lenths\")\n",
    "    #if sum(w) != 1.: return(\"the weights are not normalized to 1\")\n",
    "    \n",
    "    # rescale the set between 0 and 1\n",
    "    s = rescale(s, 0., 1.)\n",
    "    # total q-weight\n",
    "    qw = 0\n",
    "    # weight in the current box\n",
    "    curw = w[0]\n",
    "    # label of the current box\n",
    "    b = 0\n",
    "    \n",
    "    for i in range(1,len(s)-1):\n",
    "        bnew = math.floor(s[i]/epsilon)\n",
    "        # if the current point is in the same box as the one juste at its left, add its weigth to the total weight in the current box\n",
    "        if bnew == b:\n",
    "            curw += w[i]\n",
    "        # else the current point is in a new box, add the last box weight to the total q-weight, set the current label to this box\n",
    "        else:\n",
    "            qw += curw**q\n",
    "            curw = w[i]\n",
    "            b = bnew\n",
    "            \n",
    "    # the last point is in the last box\n",
    "    nb = math.floor(1/epsilon)\n",
    "    if b < nb:\n",
    "        qw += curw**q\n",
    "        qw += w[-1]**q\n",
    "    elif b == nb:\n",
    "        curw += w[-1]\n",
    "        qw += curw**q\n",
    "    else: print(\"oho!\")\n",
    "    \n",
    "    return qw"
   ]
  },
  {
   "cell_type": "code",
   "execution_count": 53,
   "metadata": {
    "collapsed": false
   },
   "outputs": [
    {
     "data": {
      "text/plain": [
       "10.0"
      ]
     },
     "execution_count": 53,
     "metadata": {},
     "output_type": "execute_result"
    }
   ],
   "source": [
    "qWeigth(s,[1./len(s) for p in s],0.1,0)"
   ]
  },
  {
   "cell_type": "code",
   "execution_count": 37,
   "metadata": {
    "collapsed": false
   },
   "outputs": [
    {
     "data": {
      "text/plain": [
       "array([ 0.,  1.,  2.,  3.,  4.,  5.,  6.,  7.,  8.,  9.])"
      ]
     },
     "execution_count": 37,
     "metadata": {},
     "output_type": "execute_result"
    }
   ],
   "source": [
    "s"
   ]
  },
  {
   "cell_type": "code",
   "execution_count": 38,
   "metadata": {
    "collapsed": false
   },
   "outputs": [
    {
     "data": {
      "text/plain": [
       "10"
      ]
     },
     "execution_count": 38,
     "metadata": {},
     "output_type": "execute_result"
    }
   ],
   "source": [
    "len(s)"
   ]
  },
  {
   "cell_type": "code",
   "execution_count": 47,
   "metadata": {
    "collapsed": false
   },
   "outputs": [],
   "source": [
    "w = [1/len(s) for p in s]"
   ]
  },
  {
   "cell_type": "code",
   "execution_count": 48,
   "metadata": {
    "collapsed": false
   },
   "outputs": [
    {
     "data": {
      "text/plain": [
       "0.9999999999999999"
      ]
     },
     "execution_count": 48,
     "metadata": {},
     "output_type": "execute_result"
    }
   ],
   "source": [
    "sum(w)"
   ]
  },
  {
   "cell_type": "code",
   "execution_count": null,
   "metadata": {
    "collapsed": true
   },
   "outputs": [],
   "source": []
  }
 ],
 "metadata": {
  "kernelspec": {
   "display_name": "Python 3",
   "language": "python",
   "name": "python3"
  },
  "language_info": {
   "codemirror_mode": {
    "name": "ipython",
    "version": 3
   },
   "file_extension": ".py",
   "mimetype": "text/x-python",
   "name": "python",
   "nbconvert_exporter": "python",
   "pygments_lexer": "ipython3",
   "version": "3.4.3"
  }
 },
 "nbformat": 4,
 "nbformat_minor": 0
}
