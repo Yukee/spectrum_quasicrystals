{
 "cells": [
  {
   "cell_type": "markdown",
   "metadata": {},
   "source": [
    "# Box-counting\n",
    "\n",
    "## Box-counting for 1D sets\n",
    "\n",
    "We consider a set $S = \\{ ..., \\{ p_i, \\mu_i \\}, ... \\}$ covering an interval $I$ on the real line. We cover $I$ with boxes of equal size. \n",
    "We count the point $p$ in the box $b$ if \n",
    "$$ b \\epsilon \\leq p  < (b+1)\\epsilon, $$ \n",
    "where $\\epsilon$ in the size of the boxes. By convention the last point is in the last box.\n",
    "This is equivalent to saying that point $p$ is in the $b^\\text{th}$ box (labelling from small to large absissas) iff\n",
    "$$ \\text{floor}\\left( \\frac{p}{\\epsilon} \\right) = b. $$\n",
    "\n",
    "We can either keep $\\epsilon$ fixed, say $\\epsilon = 1$, and vary the length of $I$, or keep the length of $I$ fixed and vary $\\epsilon$. We are going to adopt this latter point of view.\n",
    "\n",
    "We define the $q$-weight, or partition function, at length scale $\\epsilon$:\n",
    "$$ \\chi_q(\\epsilon) = \\sum_b \\left( \\mu_\\epsilon(b) \\right)^q $$\n",
    "where $\\mu_\\epsilon(b)$ is the weight of the box $b$:\n",
    "$$ \\mu_\\epsilon(b) = \\sum_{i \\text{ in } b} \\mu_i  $$.\n",
    "\n",
    "Multifractal thermodynamic theory tells us that the $q$-weight is related to the fractal dimensions in the same way than the partition function of a thermodynamic system is related to its free energy:\n",
    "$$ \\tau_q \\sim \\frac{\\log \\chi_q(\\epsilon)}{\\log \\epsilon}$$\n",
    "where we take $\\epsilon \\rightarrow 0$ limit, equivalent to the thermodynamic limit of a thermodynamic system.\n",
    "\n",
    "## Box size specification\n",
    "\n",
    "The box size can be written as $\\epsilon = \\delta^{-n} L$. If $I$ is of length $L$, then if either $\\delta$ or $n$ are not integers, the box size will not divide 1, ie part of the last box will fall out of $I$.\n",
    "This generally means that the $q$-weight will be badly estimated. \n",
    "\n",
    "## Accuracy\n",
    "\n",
    "With double floats (default python on the computer I wrote this!), the fractal dimensions are typically accurate up to 2 digits."
   ]
  },
  {
   "cell_type": "code",
   "execution_count": 21,
   "metadata": {
    "collapsed": true
   },
   "outputs": [],
   "source": [
    "import numpy as np\n",
    "from scipy import linalg, stats\n",
    "import matplotlib.pyplot as plt\n",
    "import math\n",
    "from cmath import exp\n",
    "import time\n",
    "%matplotlib inline"
   ]
  },
  {
   "cell_type": "code",
   "execution_count": 22,
   "metadata": {
    "collapsed": true
   },
   "outputs": [],
   "source": [
    "s = np.arange(0,10,1.)"
   ]
  },
  {
   "cell_type": "code",
   "execution_count": 23,
   "metadata": {
    "collapsed": false
   },
   "outputs": [],
   "source": [
    "# rescale S between m and M\n",
    "def rescale(s,m,M):\n",
    "    return (M-m)*(s-s[0])/(s[-1]-s[0])+m"
   ]
  },
  {
   "cell_type": "code",
   "execution_count": 68,
   "metadata": {
    "collapsed": false
   },
   "outputs": [],
   "source": [
    "\"\"\" compute the q-weigth (or partition function) of S \"\"\"\n",
    "\n",
    "# s: set of absissas, w: set of corresponding weigths\n",
    "def qWeight(s, w, epsilon, q):\n",
    "    # checks\n",
    "    if len(s) != len(w): return(\"the sets of absissas and weights are of unequal lenths\")\n",
    "    #if sum(w) != 1.: return(\"the weights are not normalized to 1\")\n",
    "    \n",
    "    # rescale the set between 0 and 1\n",
    "    s = rescale(s, 0., 1.)\n",
    "    # total q-weight\n",
    "    qw = 0\n",
    "    # weight in the current box\n",
    "    curw = w[0]\n",
    "    # label of the current box\n",
    "    b = 0\n",
    "    \n",
    "    for i in range(1,len(s)-1):\n",
    "        bnew = math.floor(s[i]/epsilon)\n",
    "        # if the current point is in the same box as the one juste at its left, add its weigth to the total weight in the current box\n",
    "        if bnew == b:\n",
    "            curw += w[i]\n",
    "        # else the current point is in a new box, add the last box weight to the total q-weight, set the current label to this box\n",
    "        else:\n",
    "            qw += curw**q\n",
    "            curw = w[i]\n",
    "            b = bnew\n",
    "   \n",
    "    # the last point is in the last box\n",
    "    nb = math.floor(1./epsilon)\n",
    "    # the last point is alone in the last box\n",
    "    if b < nb-1:\n",
    "        qw += curw**q\n",
    "        qw += w[-1]**q\n",
    "    # there is at least 2 points in the last box\n",
    "    elif b == nb-1:\n",
    "        curw += w[-1]\n",
    "        qw += curw**q\n",
    "    # some part of the last box falls outside of I\n",
    "    else: print('Box size '+str(epsilon)+' does not divide 1! Adding the data point nevertheless')\n",
    "    \n",
    "    return qw"
   ]
  },
  {
   "cell_type": "code",
   "execution_count": 69,
   "metadata": {
    "collapsed": false
   },
   "outputs": [
    {
     "data": {
      "text/plain": [
       "0.999999999999999"
      ]
     },
     "execution_count": 69,
     "metadata": {},
     "output_type": "execute_result"
    }
   ],
   "source": [
    "qWeigth(s,[1./len(s) for p in s],0.01,1)"
   ]
  },
  {
   "cell_type": "code",
   "execution_count": 70,
   "metadata": {
    "collapsed": false
   },
   "outputs": [
    {
     "data": {
      "text/plain": [
       "0.999999999999991"
      ]
     },
     "execution_count": 70,
     "metadata": {},
     "output_type": "execute_result"
    }
   ],
   "source": [
    "sum([1./len(s) for p in s])"
   ]
  },
  {
   "cell_type": "markdown",
   "metadata": {
    "collapsed": false
   },
   "source": [
    "## Application to the Fibonacci Hamiltonian\n",
    "\n",
    "We consider Fibonacci tight-binding Hamiltonian with pure hopping.\n",
    "\n",
    "We can compute the fractal dimensions of the wavefunctions. We then take the positions and the weights to be:\n",
    "$$ p_i = x_i, \\text{ and } w_i =|\\psi_E(x_i)|^2  $$\n",
    "where $\\psi_E(x_i)$ is the coefficient at site $i$ of position $x_i$ of the wavefunction associated to the energy $E$.\n",
    "\n",
    "We can also compute the fractal dimensions of the spectrum. This time $p_i$ is the position of the band $i$, and $w_i$ is the width of this band.\n",
    "\n",
    "We can as well compute the fractal dimensions of the local spectral measure $\\mu_{x,x}(E)$. $p_i$ is still the position of the band $i$, and $w_i$ is the local density of states at position $x$ and energy in the band $i$."
   ]
  },
  {
   "cell_type": "code",
   "execution_count": 46,
   "metadata": {
    "collapsed": false
   },
   "outputs": [],
   "source": [
    "\"\"\" build the Fibonacci tight-binding hamiltonian \"\"\"\n",
    "\n",
    "# couplings\n",
    "tw = 0.5\n",
    "ts = 1.\n",
    "\n",
    "# compute Fibonacci numbers\n",
    "def fib(n):\n",
    "    a, b = 0, 1\n",
    "    for i in range(n):\n",
    "        a, b = b, a + b\n",
    "    return a\n",
    "\n",
    "# inverse golden ratio\n",
    "om = 2./(1.+math.sqrt(5))\n",
    "\n",
    "# size\n",
    "n = 15\n",
    "L = fib(n)\n",
    "\n",
    "# i = oddNumber*2**intExp(i)\n",
    "def intExp(i):\n",
    "    exp = 0\n",
    "    while(i%2 == 0):\n",
    "        i/=2\n",
    "        exp+=1\n",
    "    return exp        \n",
    "\n",
    "# jump amplitudes\n",
    "def jump(i):\n",
    "    fibi = int(om*(i+1)) - int(om*i) # an integer taking values 0 or 1 occordingly to Fibonacci sequence\n",
    "    if(fibi < 1):return ts\n",
    "    else:return tw\n",
    "\n",
    "# build the hamiltonian (free boundary conditions)\n",
    "h = np.zeros((L,L))\n",
    "for i in range(L-1): \n",
    "    h[i,i+1] = jump(i+1)\n",
    "    h[i+1,i] = h[i,i+1]\n",
    "    \n",
    "# construct the \"band\", to use eig_banded method\n",
    "# there is 1 band above the diagonal, so a_band has shape (2,L)\n",
    "a_band = np.zeros((2,L))\n",
    "for i in range(L-1): a_band[0,i+1] = h[i,i+1]"
   ]
  },
  {
   "cell_type": "code",
   "execution_count": 47,
   "metadata": {
    "collapsed": false
   },
   "outputs": [],
   "source": [
    "\"\"\" compute the eigenvalues \"\"\"\n",
    "\n",
    "# eigensystem for a banded hermitian matrix (our case!)\n",
    "val, vec = linalg.eig_banded(a_band)"
   ]
  },
  {
   "cell_type": "code",
   "execution_count": 48,
   "metadata": {
    "collapsed": false
   },
   "outputs": [
    {
     "data": {
      "image/png": "[encoded data removed]",
      "text/plain": [
       "<matplotlib.figure.Figure at 0x7fb3f8bf2550>"
      ]
     },
     "metadata": {},
     "output_type": "display_data"
    }
   ],
   "source": [
    "\"\"\" wow, such spectrum! much gaps! \"\"\"\n",
    "\n",
    "plt.title('The spectrum of the Fibonacci chain, n = ' + str(n))\n",
    "plt.xlabel('energy label')\n",
    "plt.ylabel('energy')\n",
    "#plt.axis([0,L+1,-2.,2.])\n",
    "plt.plot(val)\n",
    "plt.show()"
   ]
  },
  {
   "cell_type": "code",
   "execution_count": 159,
   "metadata": {
    "collapsed": false
   },
   "outputs": [
    {
     "data": {
      "image/png": "[encoded data removed]",
      "text/plain": [
       "<matplotlib.figure.Figure at 0x7fb667749080>"
      ]
     },
     "metadata": {},
     "output_type": "display_data"
    }
   ],
   "source": [
    "\"\"\" plot a wavefunction \"\"\"\n",
    "\n",
    "e = 188\n",
    "plt.title('The wavefunction of energy E = ' + str(val[e]))\n",
    "plt.xlabel('site label')\n",
    "plt.ylabel('amplitude')\n",
    "#plt.axis([0,L+1,-2.,2.])\n",
    "plt.plot(vec[:,e])\n",
    "plt.show()"
   ]
  },
  {
   "cell_type": "code",
   "execution_count": 66,
   "metadata": {
    "collapsed": false
   },
   "outputs": [],
   "source": [
    "\"\"\" Fractal dimensions of the wavefunctions \"\"\"\n",
    "\n",
    "# choose an energy\n",
    "e = 200\n",
    "# position set\n",
    "s = np.arange(0,L,1.)\n",
    "# weight set\n",
    "w = abs(vec[:,e])**2"
   ]
  },
  {
   "cell_type": "code",
   "execution_count": 71,
   "metadata": {
    "collapsed": false
   },
   "outputs": [
    {
     "data": {
      "text/plain": [
       "1.0"
      ]
     },
     "execution_count": 71,
     "metadata": {},
     "output_type": "execute_result"
    }
   ],
   "source": [
    "qWeight(s, w, 1.,0)"
   ]
  },
  {
   "cell_type": "code",
   "execution_count": 72,
   "metadata": {
    "collapsed": false
   },
   "outputs": [
    {
     "data": {
      "image/png": "[encoded data removed]",
      "text/plain": [
       "<matplotlib.figure.Figure at 0x7fb3f8dac908>"
      ]
     },
     "metadata": {},
     "output_type": "display_data"
    }
   ],
   "source": [
    "\"\"\" Fractal dimensions of the wavefunctions \"\"\"\n",
    "\n",
    "q = 20.\n",
    "\n",
    "epsilonRange = 2**np.arange(-12.,0.,1.)\n",
    "qwList = [qWeight(s, w, epsilon, q) for epsilon in epsilonRange]\n",
    "\n",
    "epsilonRange2 = 2**np.arange(-8.,-1.,1.)\n",
    "qwList2 = [qWeight(s, w, epsilon, q) for epsilon in epsilonRange2]\n",
    "\n",
    "plt.title('The q-weigth for the wavefunction associated to E = ' + str(val[e]) + ' for q = ' + str(q))\n",
    "plt.xlabel('log epsilon')\n",
    "plt.ylabel('log chi')\n",
    "#plt.axis([0,L+1,-2.,2.])\n",
    "plt.loglog(epsilonRange, qwList,'-,r',markersize=3.)\n",
    "plt.loglog(epsilonRange2, qwList2,'-,b',markersize=3.)\n",
    "plt.show()\n",
    "\n",
    "# data in log-log scale\n",
    "logQW = [math.log(qw) for qw in qwList2]\n",
    "logEps = [math.log(eps) for eps in epsilonRange2]\n",
    "\n",
    "slope, intercept, r_value, p_value, std_err = stats.linregress(logEps,logQW)"
   ]
  },
  {
   "cell_type": "code",
   "execution_count": 73,
   "metadata": {
    "collapsed": false
   },
   "outputs": [
    {
     "data": {
      "text/plain": [
       "(12.40336477705516, 0.66810531405401907)"
      ]
     },
     "execution_count": 73,
     "metadata": {},
     "output_type": "execute_result"
    }
   ],
   "source": [
    "slope, std_err"
   ]
  },
  {
   "cell_type": "code",
   "execution_count": 74,
   "metadata": {
    "collapsed": false
   },
   "outputs": [
    {
     "data": {
      "image/png": "[encoded data removed]",
      "text/plain": [
       "<matplotlib.figure.Figure at 0x7fb3f897a748>"
      ]
     },
     "metadata": {},
     "output_type": "display_data"
    }
   ],
   "source": [
    "\"\"\" Fractal dimensions of the spectrum \"\"\"\n",
    "\n",
    "# positions are energy levels\n",
    "s = val\n",
    "# weights are uniform\n",
    "w = [1./len(val) for e in val]\n",
    "\n",
    "\"\"\" data regression \"\"\"\n",
    "\n",
    "q = 2.\n",
    "\n",
    "epsilonRange = 2**np.arange(-21.,0.,1.)\n",
    "qwList = [qWeight(s, w, epsilon, q) for epsilon in epsilonRange]\n",
    "\n",
    "epsilonRange2 = 2**np.arange(-9.,-2.,1.)\n",
    "qwList2 = [qWeight(s, w, epsilon, q) for epsilon in epsilonRange2]\n",
    "\n",
    "plt.title('The q-weigth for the wavefunction associated to E = ' + str(val[e]) + ' for q = ' + str(q))\n",
    "plt.xlabel('log epsilon')\n",
    "plt.ylabel('log chi')\n",
    "#plt.axis([0,L+1,-2.,2.])\n",
    "plt.loglog(epsilonRange, qwList,'-,r',markersize=3., linewidth=2.)\n",
    "plt.loglog(epsilonRange2, qwList2,'-,b',markersize=3., linewidth=2.)\n",
    "plt.show()\n",
    "\n",
    "# data in log-log scale\n",
    "logQW = [math.log(qw) for qw in qwList2]\n",
    "logEps = [math.log(eps) for eps in epsilonRange2]\n",
    "\n",
    "slope, intercept, r_value, p_value, std_err = stats.linregress(logEps,logQW)"
   ]
  },
  {
   "cell_type": "code",
   "execution_count": 75,
   "metadata": {
    "collapsed": false
   },
   "outputs": [
    {
     "data": {
      "text/plain": [
       "(0.667469485124493, 0.018603135659404541, 0.99806363765201556)"
      ]
     },
     "execution_count": 75,
     "metadata": {},
     "output_type": "execute_result"
    }
   ],
   "source": [
    "slope, std_err, r_value"
   ]
  },
  {
   "cell_type": "code",
   "execution_count": 76,
   "metadata": {
    "collapsed": false
   },
   "outputs": [
    {
     "data": {
      "image/png": "[encoded data removed]",
      "text/plain": [
       "<matplotlib.figure.Figure at 0x7fb3f8a18a90>"
      ]
     },
     "metadata": {},
     "output_type": "display_data"
    }
   ],
   "source": [
    "\"\"\" Fractal dimensions of the local spectral measure \"\"\"\n",
    "\n",
    "# position along the chain\n",
    "i = 0\n",
    "# positions are energy levels\n",
    "s = val\n",
    "# weights are the local density of states at i\n",
    "w = [abs(vec[i,e])**2 for e in val]\n",
    "\n",
    "\"\"\" data regression \"\"\"\n",
    "\n",
    "q = 2.\n",
    "\n",
    "epsilonRange = 2**np.arange(-21.,0.,1.)\n",
    "qwList = [qWeight(s, w, epsilon, q) for epsilon in epsilonRange]\n",
    "\n",
    "epsilonRange2 = 2**np.arange(-12.,-2.,1.)\n",
    "qwList2 = [qWeight(s, w, epsilon, q) for epsilon in epsilonRange2]\n",
    "\n",
    "plt.title('The q-weigth for the ldos associated to i = ' + str(i) + ' for q = ' + str(q))\n",
    "plt.xlabel('log epsilon')\n",
    "plt.ylabel('log chi')\n",
    "#plt.axis([0,L+1,-2.,2.])\n",
    "plt.loglog(epsilonRange, qwList,'-,r',markersize=3., linewidth=2.)\n",
    "plt.loglog(epsilonRange2, qwList2,'-,b',markersize=3., linewidth=2.)\n",
    "plt.show()\n",
    "\n",
    "# data in log-log scale\n",
    "logQW = [math.log(qw) for qw in qwList2]\n",
    "logEps = [math.log(eps) for eps in epsilonRange2]\n",
    "\n",
    "slope, intercept, r_value, p_value, std_err = stats.linregress(logEps,logQW)"
   ]
  },
  {
   "cell_type": "code",
   "execution_count": 77,
   "metadata": {
    "collapsed": false
   },
   "outputs": [
    {
     "data": {
      "text/plain": [
       "(0.66538339412000291, 0.013703757116991176, 0.99830764363420066)"
      ]
     },
     "execution_count": 77,
     "metadata": {},
     "output_type": "execute_result"
    }
   ],
   "source": [
    "slope, std_err, r_value"
   ]
  },
  {
   "cell_type": "markdown",
   "metadata": {
    "collapsed": true
   },
   "source": [
    "## Averaged fractal dimensions of the wavefunctions\n",
    "\n",
    "Now we wish to quantify the averaged fractal dimensions of the wavefunctions. \n",
    "For that, we define theoretically the averaged $q$-weight function:\n",
    "$$ \\overline{\\chi}_q(L) = \\langle \\chi_{q, E}(L) \\rangle = \\frac{1}{L} \\sum_{E} \\chi_{q,E}(L) $$\n",
    "where $\\chi_{q,E}(L) = \\sum_i |\\psi_{i,E}|^2$.\n",
    "\n",
    "The box-counting counterpart of $\\chi_{q,E}(L)$ is $\\chi_{q,E}(\\epsilon)$.\n",
    "We can either consider that \n",
    "$$ \\overline{\\chi}_q(\\epsilon) = \\langle \\chi_{q, E}(\\epsilon) \\rangle $$\n",
    "which seems natural, or that\n",
    "$$ \\log \\overline{\\chi}_q(\\epsilon) = \\langle \\log \\chi_{q, E}(\\epsilon) \\rangle $$\n",
    "which is the definition used by Thiem."
   ]
  },
  {
   "cell_type": "code",
   "execution_count": 78,
   "metadata": {
    "collapsed": false
   },
   "outputs": [],
   "source": [
    "\"\"\" Averaged q-weight function \"\"\"\n",
    "\n",
    "# averaged directly the q-weight function, not following Thiem\n",
    "def av_qWeight(vec, epsilon, q):\n",
    "    L = len(vec)\n",
    "    # positions are uniform on the line\n",
    "    s = np.arange(0,L,1.)\n",
    "    # averaged q-weight\n",
    "    avQw = 0\n",
    "    # sum q-weights over energies\n",
    "    for e in range(L):\n",
    "        avQw += qWeight(s, abs(vec[:,e])**2, epsilon, q)\n",
    "    return avQw/L"
   ]
  },
  {
   "cell_type": "code",
   "execution_count": 79,
   "metadata": {
    "collapsed": false
   },
   "outputs": [
    {
     "data": {
      "image/png": "[encoded data removed]",
      "text/plain": [
       "<matplotlib.figure.Figure at 0x7fb3f8c77ef0>"
      ]
     },
     "metadata": {},
     "output_type": "display_data"
    }
   ],
   "source": [
    "\"\"\" Averaged fractal dimensions of the wavefunctions \"\"\"\n",
    "\n",
    "\"\"\" data regression \"\"\"\n",
    "\n",
    "q = 2.\n",
    "\n",
    "epsilonRange = 2**np.arange(-21.,0.,1.)\n",
    "qwList = [av_qWeight(vec, epsilon, q) for epsilon in epsilonRange]\n",
    "\n",
    "epsilonRange2 = 2**np.arange(-12.,-2.,1.)\n",
    "qwList2 = [av_qWeight(vec, epsilon, q) for epsilon in epsilonRange2]\n",
    "\n",
    "plt.title('The q-weigth for the wavfunctions for q = ' + str(q))\n",
    "plt.xlabel('log epsilon')\n",
    "plt.ylabel('log chi')\n",
    "#plt.axis([0,L+1,-2.,2.])\n",
    "plt.loglog(epsilonRange, qwList,'-,r',markersize=3., linewidth=2.)\n",
    "plt.loglog(epsilonRange2, qwList2,'-,b',markersize=3., linewidth=2.)\n",
    "plt.show()\n",
    "\n",
    "# data in log-log scale\n",
    "logQW = [math.log(qw) for qw in qwList2]\n",
    "logEps = [math.log(eps) for eps in epsilonRange2]\n",
    "\n",
    "slope, intercept, r_value, p_value, std_err = stats.linregress(logEps,logQW)"
   ]
  },
  {
   "cell_type": "code",
   "execution_count": null,
   "metadata": {
    "collapsed": true
   },
   "outputs": [],
   "source": []
  }
 ],
 "metadata": {
  "kernelspec": {
   "display_name": "Python 3",
   "language": "python",
   "name": "python3"
  },
  "language_info": {
   "codemirror_mode": {
    "name": "ipython",
    "version": 3
   },
   "file_extension": ".py",
   "mimetype": "text/x-python",
   "name": "python",
   "nbconvert_exporter": "python",
   "pygments_lexer": "ipython3",
   "version": "3.4.3"
  }
 },
 "nbformat": 4,
 "nbformat_minor": 0
}
